{
 "cells": [
  {
   "cell_type": "code",
   "execution_count": 1,
   "id": "8fb82499",
   "metadata": {},
   "outputs": [],
   "source": [
    "import pandas as pd\n",
    "import sklearn\n",
    "import matplotlib.pyplot as plt\n",
    "import seaborn as sns\n",
    "from sklearn.preprocessing import PowerTransformer\n",
    "from sklearn.ensemble import VotingClassifier\n",
    "import numpy as np\n",
    "from sklearn.tree import DecisionTreeClassifier\n",
    "from sklearn.ensemble import RandomForestClassifier\n",
    "from xgboost import XGBClassifier\n",
    "from sklearn.preprocessing import PowerTransformer, OneHotEncoder\n",
    "from sklearn.compose import ColumnTransformer\n",
    "from sklearn.pipeline import Pipeline\n",
    "from sklearn.model_selection import train_test_split, cross_val_score\n",
    "from sklearn.metrics import roc_curve\n",
    "from sklearn.metrics import classification_report\n",
    "from catboost import CatBoostClassifier as cb\n",
    "import lightgbm as lgb\n",
    "import mlflow \n",
    "import matplotlib.ticker as ticker\n",
    "#mlflow.set_tracking_uri(\"./mlruns\")\n",
    "mlflow.set_tracking_uri(\"http://104.198.187.149:8000\")\n",
    "import geopandas as gpd\n",
    "from shapely import wkt\n",
    "from catboost import CatBoostRegressor \n",
    "from sklearn.pipeline import Pipeline\n",
    "from sklearn.compose import ColumnTransformer\n",
    "from sklearn.preprocessing import PowerTransformer\n",
    "from sklearn.model_selection import train_test_split, cross_val_score\n",
    "from sklearn.compose import ColumnTransformer\n",
    "from sklearn.preprocessing import QuantileTransformer\n",
    "from optuna.integration import CatBoostPruningCallback\n",
    "\n",
    "\n",
    "\n",
    "import optuna\n",
    "from sklearn.metrics import f1_score\n",
    "pd.options.display.max_columns = None\n",
    "sklearn.set_config(transform_output='pandas')\n",
    "\n",
    "from sklearn.metrics import (\n",
    "    accuracy_score,\n",
    "    precision_score,\n",
    "    recall_score,\n",
    "    f1_score,\n",
    "    roc_auc_score,\n",
    "    confusion_matrix,\n",
    "    balanced_accuracy_score,\n",
    "    mean_squared_error,\n",
    "    mean_absolute_error,\n",
    "    r2_score,\n",
    "    mean_absolute_percentage_error,\n",
    "    ConfusionMatrixDisplay\n",
    "    \n",
    ")\n",
    "from dotenv import load_dotenv\n",
    "import os\n",
    "\n",
    "load_dotenv(\"./.env\") \n",
    "CH_HOST = os.getenv('CH_HOST')\n",
    "CH_PORT = os.getenv('CH_PORT') \n",
    "CH_USER = os.getenv('CH_USER')\n",
    "CH_PASSWORD = os.getenv('CH_PASSWORD')\n",
    "\n",
    "import clickhouse_connect\n",
    "\n",
    "client = clickhouse_connect.get_client(host=CH_HOST, port=CH_PORT, user=CH_USER, password=CH_PASSWORD)"
   ]
  },
  {
   "cell_type": "code",
   "execution_count": 2,
   "id": "23bce000",
   "metadata": {},
   "outputs": [],
   "source": [
    "# NYC approximate bounding box\n",
    "# south, west, north, east\n",
    "south, west = 40.477399, -74.25909\n",
    "north, east = 40.917577, -73.700272\n"
   ]
  },
  {
   "cell_type": "code",
   "execution_count": 3,
   "id": "5992ba20",
   "metadata": {},
   "outputs": [
    {
     "name": "stdout",
     "output_type": "stream",
     "text": [
      "Found 4 camera objects in NYC.\n",
      "{'type': 'node', 'lat': 40.7392384, 'lon': -73.81149, 'tags': {'camera:mount': 'wall', 'camera:type': 'panning', 'man_made': 'surveillance', 'name': 'Herald Mission Center', 'surveillance': 'camera', 'surveillance:type': 'camera', 'surveillance:zone': 'building'}}\n",
      "{'type': 'node', 'lat': 40.7391523, 'lon': -73.8114182, 'tags': {'camera:mount': 'wall', 'camera:type': 'panning', 'man_made': 'surveillance', 'name': 'Herald Mission Center', 'surveillance': 'camera', 'surveillance:type': 'camera', 'surveillance:zone': 'street'}}\n",
      "{'type': 'node', 'lat': 40.7764425, 'lon': -73.9110205, 'tags': {'man_made': 'surveillance', 'surveillance': 'camera'}}\n",
      "{'type': 'way', 'lat': 40.7833727, 'lon': -73.9474504, 'tags': {'addr:housenumber': '1838', 'addr:postcode': '10128', 'addr:street': '2nd Avenue', 'amenity': 'cafe', 'cuisine': 'frozen_yogurt', 'delivery': 'yes', 'dog': 'no', 'level': '0', 'name': 'Go Cups', 'opening_hours': '07:00-22:00', 'payment:american_express': 'yes', 'payment:cash': 'yes', 'payment:mastercard': 'yes', 'payment:visa': 'yes', 'phone': '+1 212-289-2929', 'seats': '9', 'surveillance': 'camera', 'takeaway': 'yes', 'wheelchair': 'yes'}}\n"
     ]
    }
   ],
   "source": [
    "import overpy\n",
    "\n",
    "api = overpy.Overpass()\n",
    "\n",
    "# build the Overpass QL query\n",
    "query = f\"\"\"\n",
    "(\n",
    "  // nodes tagged as cameras\n",
    "  node[\"man_made\"=\"camera\"]({south},{west},{north},{east});\n",
    "  node[\"surveillance\"=\"camera\"]({south},{west},{north},{east});\n",
    "  // ways tagged as cameras\n",
    "  way[\"man_made\"=\"camera\"]({south},{west},{north},{east});\n",
    "  way[\"surveillance\"=\"camera\"]({south},{west},{north},{east});\n",
    ");\n",
    "out center tags;\n",
    "\"\"\"\n",
    "\n",
    "# execute\n",
    "result = api.query(query)\n",
    "\n",
    "# collect all points\n",
    "camera_points = []\n",
    "# nodes\n",
    "for node in result.nodes:\n",
    "    camera_points.append({\n",
    "        \"type\": \"node\",\n",
    "        \"lat\": float(node.lat),\n",
    "        \"lon\": float(node.lon),\n",
    "        \"tags\": node.tags\n",
    "    })\n",
    "# ways (use .center to get a representative point)\n",
    "for way in result.ways:\n",
    "    camera_points.append({\n",
    "        \"type\": \"way\",\n",
    "        \"lat\": float(way.center_lat),\n",
    "        \"lon\": float(way.center_lon),\n",
    "        \"tags\": way.tags\n",
    "    })\n",
    "\n",
    "print(f\"Found {len(camera_points)} camera objects in NYC.\")\n",
    "for cam in camera_points[:10]:\n",
    "    print(cam)\n"
   ]
  },
  {
   "cell_type": "code",
   "execution_count": 7,
   "id": "ba4a9587",
   "metadata": {},
   "outputs": [
    {
     "name": "stdout",
     "output_type": "stream",
     "text": [
      "Found 4 camera points\n"
     ]
    },
    {
     "name": "stderr",
     "output_type": "stream",
     "text": [
      "/var/tmp/ipykernel_14512/899302535.py:17: UserWarning: Geometry is in a geographic CRS. Results from 'centroid' are likely incorrect. Use 'GeoSeries.to_crs()' to re-project geometries to a projected CRS before this operation.\n",
      "\n",
      "  gdf[\"geometry\"] = gdf.geometry.centroid\n"
     ]
    }
   ],
   "source": [
    "import osmnx as ox\n",
    "\n",
    "# define bbox as (min_lon, min_lat, max_lon, max_lat)\n",
    "west, south, east, north = -74.25909, 40.477399, -73.700272, 40.917577\n",
    "bbox = (west, south, east, north)\n",
    "\n",
    "tags = {\n",
    "    \"man_made\":     \"camera\",\n",
    "    \"surveillance\": \"camera\",\n",
    "}\n",
    "\n",
    "# pass only two positional args: bbox tuple and tags dict\n",
    "gdf = ox.features_from_bbox(bbox, tags)  \n",
    "# (or equivalently, use keywords: ox.features_from_bbox(bbox=bbox, tags=tags))\n",
    "\n",
    "# if you want point locations for ways/polygons:\n",
    "gdf[\"geometry\"] = gdf.geometry.centroid\n",
    "points = gdf[gdf.geometry.geom_type == \"Point\"]\n",
    "\n",
    "print(f\"Found {len(points)} camera points\")\n"
   ]
  },
  {
   "cell_type": "code",
   "execution_count": 10,
   "id": "8588f9c7",
   "metadata": {},
   "outputs": [
    {
     "ename": "RuntimeError",
     "evalue": "couldn't find allCameras array in JS",
     "output_type": "error",
     "traceback": [
      "\u001b[31m---------------------------------------------------------------------------\u001b[39m",
      "\u001b[31mRuntimeError\u001b[39m                              Traceback (most recent call last)",
      "\u001b[36mCell\u001b[39m\u001b[36m \u001b[39m\u001b[32mIn[10]\u001b[39m\u001b[32m, line 12\u001b[39m\n\u001b[32m     10\u001b[39m m = re.search(\u001b[33mr\u001b[39m\u001b[33m\"\u001b[39m\u001b[33mconst\u001b[39m\u001b[33m\\\u001b[39m\u001b[33ms+allCameras\u001b[39m\u001b[33m\\\u001b[39m\u001b[33ms*=\u001b[39m\u001b[33m\\\u001b[39m\u001b[33ms*(\u001b[39m\u001b[33m\\\u001b[39m\u001b[33m[.*\u001b[39m\u001b[33m\\\u001b[39m\u001b[33m]);\u001b[39m\u001b[33m\"\u001b[39m, js, flags=re.S)\n\u001b[32m     11\u001b[39m \u001b[38;5;28;01mif\u001b[39;00m \u001b[38;5;129;01mnot\u001b[39;00m m:\n\u001b[32m---> \u001b[39m\u001b[32m12\u001b[39m     \u001b[38;5;28;01mraise\u001b[39;00m \u001b[38;5;167;01mRuntimeError\u001b[39;00m(\u001b[33m\"\u001b[39m\u001b[33mcouldn\u001b[39m\u001b[33m'\u001b[39m\u001b[33mt find allCameras array in JS\u001b[39m\u001b[33m\"\u001b[39m)\n\u001b[32m     14\u001b[39m \u001b[38;5;66;03m# 3. Parse it as JSON\u001b[39;00m\n\u001b[32m     15\u001b[39m cams = json.loads(m.group(\u001b[32m1\u001b[39m))\n",
      "\u001b[31mRuntimeError\u001b[39m: couldn't find allCameras array in JS"
     ]
    }
   ],
   "source": [
    "import requests, re, json\n",
    "\n",
    "# 1. Fetch the JS file\n",
    "url = \"https://trafficcamphotobooth.com/allCameras.js\"\n",
    "resp = requests.get(url)\n",
    "resp.raise_for_status()\n",
    "js = resp.text\n",
    "\n",
    "# 2. Extract the JSON array literal with a regex\n",
    "m = re.search(r\"const\\s+allCameras\\s*=\\s*(\\[.*\\]);\", js, flags=re.S)\n",
    "if not m:\n",
    "    raise RuntimeError(\"couldn't find allCameras array in JS\")\n",
    "\n",
    "# 3. Parse it as JSON\n",
    "cams = json.loads(m.group(1))\n",
    "\n",
    "# 4. Pull out lat/lon\n",
    "coords = [(cam[\"latitude\"], cam[\"longitude\"]) for cam in cams]\n",
    "\n",
    "print(f\"Found {len(coords)} cameras\")\n",
    "print(coords[:5])\n"
   ]
  },
  {
   "cell_type": "code",
   "execution_count": null,
   "metadata": {},
   "outputs": [],
   "source": []
  },
  {
   "cell_type": "code",
   "execution_count": 11,
   "id": "a49089bf",
   "metadata": {},
   "outputs": [
    {
     "name": "stdout",
     "output_type": "stream",
     "text": [
      "Collecting selenium\n",
      "  Downloading selenium-4.34.2-py3-none-any.whl.metadata (7.5 kB)\n",
      "Collecting webdriver-manager\n",
      "  Downloading webdriver_manager-4.0.2-py2.py3-none-any.whl.metadata (12 kB)\n",
      "Requirement already satisfied: urllib3~=2.5.0 in /opt/conda/envs/ml/lib/python3.12/site-packages (from urllib3[socks]~=2.5.0->selenium) (2.5.0)\n",
      "Collecting trio~=0.30.0 (from selenium)\n",
      "  Downloading trio-0.30.0-py3-none-any.whl.metadata (8.5 kB)\n",
      "Collecting trio-websocket~=0.12.2 (from selenium)\n",
      "  Downloading trio_websocket-0.12.2-py3-none-any.whl.metadata (5.1 kB)\n",
      "Requirement already satisfied: certifi>=2025.6.15 in /opt/conda/envs/ml/lib/python3.12/site-packages (from selenium) (2025.7.14)\n",
      "Requirement already satisfied: typing_extensions~=4.14.0 in /opt/conda/envs/ml/lib/python3.12/site-packages (from selenium) (4.14.1)\n",
      "Requirement already satisfied: websocket-client~=1.8.0 in /opt/conda/envs/ml/lib/python3.12/site-packages (from selenium) (1.8.0)\n",
      "Requirement already satisfied: attrs>=23.2.0 in /opt/conda/envs/ml/lib/python3.12/site-packages (from trio~=0.30.0->selenium) (25.3.0)\n",
      "Collecting sortedcontainers (from trio~=0.30.0->selenium)\n",
      "  Downloading sortedcontainers-2.4.0-py2.py3-none-any.whl.metadata (10 kB)\n",
      "Requirement already satisfied: idna in /opt/conda/envs/ml/lib/python3.12/site-packages (from trio~=0.30.0->selenium) (3.10)\n",
      "Collecting outcome (from trio~=0.30.0->selenium)\n",
      "  Downloading outcome-1.3.0.post0-py2.py3-none-any.whl.metadata (2.6 kB)\n",
      "Requirement already satisfied: sniffio>=1.3.0 in /opt/conda/envs/ml/lib/python3.12/site-packages (from trio~=0.30.0->selenium) (1.3.1)\n",
      "Collecting wsproto>=0.14 (from trio-websocket~=0.12.2->selenium)\n",
      "  Downloading wsproto-1.2.0-py3-none-any.whl.metadata (5.6 kB)\n",
      "Requirement already satisfied: pysocks!=1.5.7,<2.0,>=1.5.6 in /opt/conda/envs/ml/lib/python3.12/site-packages (from urllib3[socks]~=2.5.0->selenium) (1.7.1)\n",
      "Requirement already satisfied: requests in /opt/conda/envs/ml/lib/python3.12/site-packages (from webdriver-manager) (2.32.4)\n",
      "Requirement already satisfied: python-dotenv in /opt/conda/envs/ml/lib/python3.12/site-packages (from webdriver-manager) (1.1.1)\n",
      "Requirement already satisfied: packaging in /opt/conda/envs/ml/lib/python3.12/site-packages (from webdriver-manager) (24.2)\n",
      "Requirement already satisfied: h11<1,>=0.9.0 in /opt/conda/envs/ml/lib/python3.12/site-packages (from wsproto>=0.14->trio-websocket~=0.12.2->selenium) (0.16.0)\n",
      "Requirement already satisfied: charset_normalizer<4,>=2 in /opt/conda/envs/ml/lib/python3.12/site-packages (from requests->webdriver-manager) (3.4.2)\n",
      "Downloading selenium-4.34.2-py3-none-any.whl (9.4 MB)\n",
      "\u001b[2K   \u001b[90m━━━━━━━━━━━━━━━━━━━━━━━━━━━━━━━━━━━━━━━━\u001b[0m \u001b[32m9.4/9.4 MB\u001b[0m \u001b[31m116.1 MB/s\u001b[0m eta \u001b[36m0:00:00\u001b[0m\n",
      "\u001b[?25hDownloading trio-0.30.0-py3-none-any.whl (499 kB)\n",
      "Downloading trio_websocket-0.12.2-py3-none-any.whl (21 kB)\n",
      "Downloading webdriver_manager-4.0.2-py2.py3-none-any.whl (27 kB)\n",
      "Downloading outcome-1.3.0.post0-py2.py3-none-any.whl (10 kB)\n",
      "Downloading wsproto-1.2.0-py3-none-any.whl (24 kB)\n",
      "Downloading sortedcontainers-2.4.0-py2.py3-none-any.whl (29 kB)\n",
      "Installing collected packages: sortedcontainers, wsproto, outcome, webdriver-manager, trio, trio-websocket, selenium\n",
      "\u001b[2K   \u001b[90m━━━━━━━━━━━━━━━━━━━━━━━━━━━━━━━━━━━━━━━━\u001b[0m \u001b[32m7/7\u001b[0m [selenium]6/7\u001b[0m [selenium]\n",
      "\u001b[1A\u001b[2KSuccessfully installed outcome-1.3.0.post0 selenium-4.34.2 sortedcontainers-2.4.0 trio-0.30.0 trio-websocket-0.12.2 webdriver-manager-4.0.2 wsproto-1.2.0\n",
      "Note: you may need to restart the kernel to use updated packages.\n"
     ]
    }
   ],
   "source": [
    "%pip install selenium webdriver-manager\n"
   ]
  },
  {
   "cell_type": "code",
   "execution_count": 5,
   "id": "a28273ed",
   "metadata": {},
   "outputs": [
    {
     "name": "stdout",
     "output_type": "stream",
     "text": [
      "Reading package lists... Done\n",
      "E: Could not open lock file /var/lib/apt/lists/lock - open (13: Permission denied)\n",
      "E: Unable to lock directory /var/lib/apt/lists/\n",
      "W: Problem unlinking the file /var/cache/apt/pkgcache.bin - RemoveCaches (13: Permission denied)\n",
      "W: Problem unlinking the file /var/cache/apt/srcpkgcache.bin - RemoveCaches (13: Permission denied)\n",
      "E: Could not open lock file /var/lib/dpkg/lock-frontend - open (13: Permission denied)\n",
      "E: Unable to acquire the dpkg frontend lock (/var/lib/dpkg/lock-frontend), are you root?\n"
     ]
    }
   ],
   "source": [
    "!apt-get update\n",
    "!apt-get install -y chromium-browser chromium-chromedriver\n"
   ]
  },
  {
   "cell_type": "code",
   "execution_count": 7,
   "id": "e668c957",
   "metadata": {},
   "outputs": [
    {
     "name": "stdout",
     "output_type": "stream",
     "text": [
      "Found 922 cameras\n",
      "[(40.710983, -73.963168), (40.675787, -73.896898), (40.715157, -74.00213), (40.761186, -73.955676), (40.6332, -74.0057)]\n"
     ]
    }
   ],
   "source": [
    "import requests\n",
    "import json\n",
    "\n",
    "# 1) Download the JS file\n",
    "url = \"https://trafficcamphotobooth.com/allCameras.js\"\n",
    "js   = requests.get(url).text\n",
    "\n",
    "# 2) Find the start of the array literal\n",
    "kw = \"allCameras\"\n",
    "idx = js.find(kw)\n",
    "if idx == -1:\n",
    "    raise RuntimeError(\"allCameras not found in JS\")\n",
    "\n",
    "start = js.find(\"[\", idx)\n",
    "if start == -1:\n",
    "    raise RuntimeError(\"Couldn't find [ after allCameras\")\n",
    "\n",
    "# 3) Walk forward to find the matching closing bracket\n",
    "depth = 0\n",
    "for i, ch in enumerate(js[start:], start):\n",
    "    if   ch == \"[\": depth += 1\n",
    "    elif ch == \"]\":\n",
    "        depth -= 1\n",
    "        if depth == 0:\n",
    "            end = i + 1\n",
    "            break\n",
    "else:\n",
    "    raise RuntimeError(\"No matching ] found for allCameras array\")\n",
    "\n",
    "array_text = js[start:end]\n",
    "\n",
    "# 4) Parse it as JSON\n",
    "cams = json.loads(array_text)\n",
    "\n",
    "# 5) Pull out lat/lon tuples\n",
    "coords = [(cam[\"latitude\"], cam[\"longitude\"]) for cam in cams]\n",
    "\n",
    "print(f\"Found {len(coords)} cameras\")\n",
    "print(coords[:5])\n"
   ]
  },
  {
   "cell_type": "code",
   "execution_count": 10,
   "metadata": {},
   "outputs": [
    {
     "name": "stdout",
     "output_type": "stream",
     "text": [
      "Wrote nyc_cameras_with_cd.csv with columns [latitude,longitude,community_district]\n"
     ]
    }
   ],
   "source": [
    "import requests, json\n",
    "import pandas as pd\n",
    "import geopandas as gpd\n",
    "from shapely.geometry import Point, shape\n",
    "\n",
    "# ── 1) get the camera coords ────────────────────────────────────────────────────\n",
    "js = requests.get(\"https://trafficcamphotobooth.com/allCameras.js\").text\n",
    "start = js.find(\"[\", js.find(\"allCameras\"))\n",
    "depth = 0\n",
    "for i,ch in enumerate(js[start:], start):\n",
    "    if   ch == \"[\": depth += 1\n",
    "    elif ch == \"]\":\n",
    "        depth -= 1\n",
    "        if depth == 0:\n",
    "            end = i + 1\n",
    "            break\n",
    "cams = json.loads(js[start:end])\n",
    "coords = [(c[\"latitude\"], c[\"longitude\"]) for c in cams]\n",
    "df = pd.DataFrame(coords, columns=[\"latitude\",\"longitude\"])\n",
    "\n",
    "# ── 2) fetch the CDTA GeoJSON from Socrata ────────────────────────────────────\n",
    "# 2020 Community District Tabulation Areas (CDTA), dataset xn3r-zk6y :contentReference[oaicite:0]{index=0}\n",
    "geojson_url = \"https://data.cityofnewyork.us/resource/xn3r-zk6y.geojson?$limit=10000\"\n",
    "resp = requests.get(geojson_url)\n",
    "resp.raise_for_status()\n",
    "geo = resp.json()\n",
    "\n",
    "# build GeoDataFrame of CDs\n",
    "records = []\n",
    "for feat in geo[\"features\"]:\n",
    "    props = feat[\"properties\"]\n",
    "    # boro_cd is the integer CD code (e.g. 101 = Manhattan 1, 312 = Brooklyn 12)\n",
    "    cd = props.get(\"boro_cd\")\n",
    "    geom = shape(feat[\"geometry\"])\n",
    "    records.append({\"community_district\": cd, \"geometry\": geom})\n",
    "gdf_cd = gpd.GeoDataFrame(records, crs=\"EPSG:4326\")\n",
    "\n",
    "# ── 3) spatial‑join cameras → CD ───────────────────────────────────────────────\n",
    "gdf_pts = gpd.GeoDataFrame(\n",
    "    df,\n",
    "    geometry=[Point(lon, lat) for lat,lon in coords],\n",
    "    crs=\"EPSG:4326\"\n",
    ")\n",
    "joined = gpd.sjoin(\n",
    "    gdf_pts,\n",
    "    gdf_cd[[\"community_district\",\"geometry\"]],\n",
    "    how=\"left\",\n",
    "    predicate=\"within\"\n",
    ")\n",
    "\n",
    "# ── 4) write CSV ───────────────────────────────────────────────────────────────\n",
    "out = joined[[\"latitude\",\"longitude\",\"community_district\"]]\n",
    "out.to_csv(\"nyc_cameras_with_cd.csv\", index=False)\n",
    "print(\"Wrote nyc_cameras_with_cd.csv with columns [latitude,longitude,community_district]\")\n"
   ]
  },
  {
   "cell_type": "code",
   "execution_count": null,
   "id": "2e7922f3",
   "metadata": {},
   "outputs": [],
   "source": []
  },
  {
   "cell_type": "code",
   "execution_count": null,
   "id": "9b110d3e",
   "metadata": {},
   "outputs": [],
   "source": []
  },
  {
   "cell_type": "code",
   "execution_count": null,
   "metadata": {},
   "outputs": [],
   "source": []
  }
 ],
 "metadata": {
  "kernelspec": {
   "display_name": "ml",
   "language": "python",
   "name": "python3"
  },
  "language_info": {
   "codemirror_mode": {
    "name": "ipython",
    "version": 3
   },
   "file_extension": ".py",
   "mimetype": "text/x-python",
   "name": "python",
   "nbconvert_exporter": "python",
   "pygments_lexer": "ipython3",
   "version": "3.12.11"
  }
 },
 "nbformat": 4,
 "nbformat_minor": 5
}
